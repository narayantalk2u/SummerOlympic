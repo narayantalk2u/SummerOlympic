{
 "cells": [
  {
   "cell_type": "markdown",
   "metadata": {},
   "source": [
    "\n",
    "# Project on summer olympics\n"
   ]
  },
  {
   "cell_type": "markdown",
   "metadata": {},
   "source": [
    "#1. Problem Statement\n",
    "\n",
    "The notebooks explores the basic use of Pandas and will cover the basic commands of Exploratory Data Analysis(EDA) which includes cleaning, munging, combining, reshaping, slicing, dicing, and transforming data for analysis purpose.\n",
    "Exploratory Data Analysis \n",
    "Understand the data by EDA and derive simple models with Pandas as baseline. EDA ia a critical and first step in analyzing the data and we do this for below reasons :\n",
    "Finding patterns in Data\n",
    "Determining relationships in Data\n",
    "Checking of assumptions\n",
    "Preliminary selection of appropriate models\n",
    "Detection of mistakes \n",
    "\n",
    "#2. What is this Summer olympics:\n",
    "\n",
    "The Summer Olympic Games (French: Jeux olympiques d'été)[1] or the Games of the Olympiad, first held in 1896, is a major international multi-sport event held once every four years. The most recent Olympics were held in Rio de Janeiro, Brazil. The International Olympic Committee (IOC) organises the Games and oversees the host city's preparations. In each Olympic event, gold medals are awarded for first place, silver medals are awarded for second place, and bronze medals are awarded for third place; this tradition began in 1904. The Winter Olympic Games were created due to the success of the Summer Olympics.\n",
    "\n",
    "The Olympics have increased in scope from a 42-event competition with fewer than 250 male competitors from 14 nations in 1896, to 306 events with 11,238 competitors (6,179 men, 5,059 women) from 206 nations in 2016.\n",
    "\n",
    "The Summer Olympics has been hosted on five continents by a total of nineteen countries. The Games have been held four times in the United States (in 1904, 1932, 1984 and 1996); three times in the United Kingdom (in 1908, 1948 and 2012); twice each in Greece (1896, 2004), France (1900, 1924), Germany (1936, 1972) and Australia (1956, 2000); and once each in Sweden (1912), Belgium (1920), Netherlands (1928), Finland (1952), Italy (1960), Japan (1964), Mexico (1968), Canada (1976), Soviet Union (1980), South Korea (1988), Spain (1992), China (2008) and Brazil (2016).\n",
    "\n",
    "The IOC has selected Tokyo, Japan, to host the Summer Olympics for a second time in 2020. The 2024 Summer Olympics will be held in Paris, France, for a third time, exactly one hundred years after the city's last Summer Olympics in 1924. The IOC has also selected Los Angeles, California, to host its third Summer Games in 2028.\n",
    "\n",
    "To date, only five countries have participated in every Summer Olympic Games – Australia, France, Great Britain, Greece and Switzerland. The United States leads the all-time medal table for the Summer Olympics.(Source: https://en.wikipedia.org/wiki/Summer_Olympic_Games)\n"
   ]
  },
  {
   "cell_type": "markdown",
   "metadata": {},
   "source": [
    "# Importing Required libraries of python."
   ]
  },
  {
   "cell_type": "code",
   "execution_count": 118,
   "metadata": {},
   "outputs": [],
   "source": [
    "\n",
    "import numpy as np                                                 # Implemennts milti-dimensional array and matrices\n",
    "import pandas as pd                                                # For data manipulation and analysis\n",
    "import matplotlib.pyplot as plt                                    # Plotting library for Python programming language and it's numerical mathematics extension NumPy\n",
    "import pandas_profiling\n",
    "import pylab as plab\n",
    "import seaborn as sns                                              # Provides a high level interface for drawing attractive and informative statistical graphics\n",
    "%matplotlib inline\n",
    "sns.set()\n",
    "\n",
    "from subprocess import check_output"
   ]
  },
  {
   "cell_type": "markdown",
   "metadata": {},
   "source": [
    "# Load the dataset from github using pandas load_csv api. "
   ]
  },
  {
   "cell_type": "code",
   "execution_count": 119,
   "metadata": {},
   "outputs": [],
   "source": [
    "summer_olympic = pd.read_csv(\"https://raw.githubusercontent.com/insaid2018/Term-1/master/Data/Projects/summer%20olympics.csv\")"
   ]
  },
  {
   "cell_type": "code",
   "execution_count": 120,
   "metadata": {},
   "outputs": [
    {
     "data": {
      "text/html": [
       "<div>\n",
       "<style scoped>\n",
       "    .dataframe tbody tr th:only-of-type {\n",
       "        vertical-align: middle;\n",
       "    }\n",
       "\n",
       "    .dataframe tbody tr th {\n",
       "        vertical-align: top;\n",
       "    }\n",
       "\n",
       "    .dataframe thead th {\n",
       "        text-align: right;\n",
       "    }\n",
       "</style>\n",
       "<table border=\"1\" class=\"dataframe\">\n",
       "  <thead>\n",
       "    <tr style=\"text-align: right;\">\n",
       "      <th></th>\n",
       "      <th>Year</th>\n",
       "      <th>City</th>\n",
       "      <th>Sport</th>\n",
       "      <th>Discipline</th>\n",
       "      <th>Athlete</th>\n",
       "      <th>Country</th>\n",
       "      <th>Gender</th>\n",
       "      <th>Event</th>\n",
       "      <th>Medal</th>\n",
       "    </tr>\n",
       "  </thead>\n",
       "  <tbody>\n",
       "    <tr>\n",
       "      <th>0</th>\n",
       "      <td>1896</td>\n",
       "      <td>Athens</td>\n",
       "      <td>Aquatics</td>\n",
       "      <td>Swimming</td>\n",
       "      <td>HAJOS, Alfred</td>\n",
       "      <td>HUN</td>\n",
       "      <td>Men</td>\n",
       "      <td>100M Freestyle</td>\n",
       "      <td>Gold</td>\n",
       "    </tr>\n",
       "    <tr>\n",
       "      <th>1</th>\n",
       "      <td>1896</td>\n",
       "      <td>Athens</td>\n",
       "      <td>Aquatics</td>\n",
       "      <td>Swimming</td>\n",
       "      <td>HERSCHMANN, Otto</td>\n",
       "      <td>AUT</td>\n",
       "      <td>Men</td>\n",
       "      <td>100M Freestyle</td>\n",
       "      <td>Silver</td>\n",
       "    </tr>\n",
       "    <tr>\n",
       "      <th>2</th>\n",
       "      <td>1896</td>\n",
       "      <td>Athens</td>\n",
       "      <td>Aquatics</td>\n",
       "      <td>Swimming</td>\n",
       "      <td>DRIVAS, Dimitrios</td>\n",
       "      <td>GRE</td>\n",
       "      <td>Men</td>\n",
       "      <td>100M Freestyle For Sailors</td>\n",
       "      <td>Bronze</td>\n",
       "    </tr>\n",
       "    <tr>\n",
       "      <th>3</th>\n",
       "      <td>1896</td>\n",
       "      <td>Athens</td>\n",
       "      <td>Aquatics</td>\n",
       "      <td>Swimming</td>\n",
       "      <td>MALOKINIS, Ioannis</td>\n",
       "      <td>GRE</td>\n",
       "      <td>Men</td>\n",
       "      <td>100M Freestyle For Sailors</td>\n",
       "      <td>Gold</td>\n",
       "    </tr>\n",
       "    <tr>\n",
       "      <th>4</th>\n",
       "      <td>1896</td>\n",
       "      <td>Athens</td>\n",
       "      <td>Aquatics</td>\n",
       "      <td>Swimming</td>\n",
       "      <td>CHASAPIS, Spiridon</td>\n",
       "      <td>GRE</td>\n",
       "      <td>Men</td>\n",
       "      <td>100M Freestyle For Sailors</td>\n",
       "      <td>Silver</td>\n",
       "    </tr>\n",
       "  </tbody>\n",
       "</table>\n",
       "</div>"
      ],
      "text/plain": [
       "   Year    City     Sport Discipline             Athlete Country Gender  \\\n",
       "0  1896  Athens  Aquatics   Swimming       HAJOS, Alfred     HUN    Men   \n",
       "1  1896  Athens  Aquatics   Swimming    HERSCHMANN, Otto     AUT    Men   \n",
       "2  1896  Athens  Aquatics   Swimming   DRIVAS, Dimitrios     GRE    Men   \n",
       "3  1896  Athens  Aquatics   Swimming  MALOKINIS, Ioannis     GRE    Men   \n",
       "4  1896  Athens  Aquatics   Swimming  CHASAPIS, Spiridon     GRE    Men   \n",
       "\n",
       "                        Event   Medal  \n",
       "0              100M Freestyle    Gold  \n",
       "1              100M Freestyle  Silver  \n",
       "2  100M Freestyle For Sailors  Bronze  \n",
       "3  100M Freestyle For Sailors    Gold  \n",
       "4  100M Freestyle For Sailors  Silver  "
      ]
     },
     "execution_count": 120,
     "metadata": {},
     "output_type": "execute_result"
    }
   ],
   "source": [
    "#Displaying 5 rows of dataset.\n",
    "summer_olympic.head()"
   ]
  },
  {
   "cell_type": "code",
   "execution_count": 121,
   "metadata": {},
   "outputs": [
    {
     "data": {
      "text/plain": [
       "Index(['Year', 'City', 'Sport', 'Discipline', 'Athlete', 'Country', 'Gender',\n",
       "       'Event', 'Medal'],\n",
       "      dtype='object')"
      ]
     },
     "execution_count": 121,
     "metadata": {},
     "output_type": "execute_result"
    }
   ],
   "source": [
    "#Displaying column informations\n",
    "summer_olympic.columns "
   ]
  },
  {
   "cell_type": "code",
   "execution_count": 122,
   "metadata": {},
   "outputs": [
    {
     "data": {
      "text/plain": [
       "31165"
      ]
     },
     "execution_count": 122,
     "metadata": {},
     "output_type": "execute_result"
    }
   ],
   "source": [
    "len(summer_olympic)"
   ]
  },
  {
   "cell_type": "code",
   "execution_count": 123,
   "metadata": {},
   "outputs": [
    {
     "name": "stdout",
     "output_type": "stream",
     "text": [
      "<class 'pandas.core.frame.DataFrame'>\n",
      "RangeIndex: 31165 entries, 0 to 31164\n",
      "Data columns (total 9 columns):\n",
      "Year          31165 non-null int64\n",
      "City          31165 non-null object\n",
      "Sport         31165 non-null object\n",
      "Discipline    31165 non-null object\n",
      "Athlete       31165 non-null object\n",
      "Country       31161 non-null object\n",
      "Gender        31165 non-null object\n",
      "Event         31165 non-null object\n",
      "Medal         31165 non-null object\n",
      "dtypes: int64(1), object(8)\n",
      "memory usage: 2.1+ MB\n"
     ]
    }
   ],
   "source": [
    "summer_olympic.info()"
   ]
  },
  {
   "cell_type": "markdown",
   "metadata": {},
   "source": [
    "The dataset is structured and clear enough. \n",
    "The dataset consists of the information about the medals own by athlets of different participating countries being held between 1986 to 2012. Theere are total 31165 no of medals being won by athelets. \n",
    "\n",
    "Various variables present in the dataset includes data of Year, City, Sport, Discipline, Athlete, Country, Gender, Event, Medal\n",
    "\n",
    "The dataset comprises of 31165 observations of 9 columns. Below is a table showing names of all the columns and their description.\n",
    "\n",
    "              Column Name                             Description\n",
    "             ---------------------------------------------------------------------------------\n",
    "                Year                                  The year in which summer olympic held.\n",
    "                City                                  The city where the event hosted.\n",
    "                Sports                                Categories the typeof game being played.\n",
    "                Discipline                            A typeof sport being played by the athletes.\n",
    "                Athelete                              The name of the participant.\n",
    "                Country                               The nation athelete belongs to.\n",
    "                Gender                                Specifies whether men or women.\n",
    "                Event                                 The particular event of a disciplineof sport.\n",
    "                Medal                                 Represents the medal being won by the participant:-Gold, Silver or Bronze\n",
    "                                    \n",
    "                                    \n",
    "                                    \n"
   ]
  },
  {
   "cell_type": "markdown",
   "metadata": {},
   "source": [
    "# Preprocessing the dataset.\n",
    "\n",
    "The preprocessing is a method to know the null values or missing values,duplicates, outliers and etc. "
   ]
  },
  {
   "cell_type": "code",
   "execution_count": 124,
   "metadata": {},
   "outputs": [
    {
     "data": {
      "text/plain": [
       "Year          0\n",
       "City          0\n",
       "Sport         0\n",
       "Discipline    0\n",
       "Athlete       0\n",
       "Country       4\n",
       "Gender        0\n",
       "Event         0\n",
       "Medal         0\n",
       "dtype: int64"
      ]
     },
     "execution_count": 124,
     "metadata": {},
     "output_type": "execute_result"
    }
   ],
   "source": [
    "summer_olympic.isnull().sum()"
   ]
  },
  {
   "cell_type": "code",
   "execution_count": 125,
   "metadata": {},
   "outputs": [
    {
     "data": {
      "text/plain": [
       "2"
      ]
     },
     "execution_count": 125,
     "metadata": {},
     "output_type": "execute_result"
    }
   ],
   "source": [
    "summer_olympic.duplicated(subset=None,keep='first').sum()"
   ]
  },
  {
   "cell_type": "markdown",
   "metadata": {},
   "source": [
    "Clear from the above calculation :\n",
    " (1) that there are 4 null values present in the country column. We will figure out later on how to fill this or drop this.\n",
    " (2) that there are 2 duplicate rows present.\n",
    " \n",
    " So using the Pandas Profiling we are able to deduce the same (as done below)\n"
   ]
  },
  {
   "cell_type": "code",
   "execution_count": 126,
   "metadata": {},
   "outputs": [],
   "source": [
    "profile = pandas_profiling.ProfileReport(summer_olympic)\n",
    "profile.to_file(outputfile=\"summer_olympic_before_preprocessing.html\")"
   ]
  },
  {
   "cell_type": "markdown",
   "metadata": {},
   "source": [
    "Now eliminating both the problems from the dataset. \n",
    "    1st Removing duplicates from the Dataset\n",
    "    2nd Deducing Null values in the country field.\n",
    "\n"
   ]
  },
  {
   "cell_type": "code",
   "execution_count": 127,
   "metadata": {},
   "outputs": [],
   "source": [
    "#1st Removing duplicates from the Dataset\n",
    "summer_olympic.drop_duplicates(subset=None, keep='first', inplace=True)"
   ]
  },
  {
   "cell_type": "code",
   "execution_count": 128,
   "metadata": {},
   "outputs": [
    {
     "data": {
      "text/plain": [
       "0"
      ]
     },
     "execution_count": 128,
     "metadata": {},
     "output_type": "execute_result"
    }
   ],
   "source": [
    "#Confirming no duplicate value now present in the dataset.\n",
    "summer_olympic.duplicated(subset=None,keep='first').sum()"
   ]
  },
  {
   "cell_type": "code",
   "execution_count": 129,
   "metadata": {},
   "outputs": [
    {
     "name": "stdout",
     "output_type": "stream",
     "text": [
      "       Year    City          Sport           Discipline          Athlete  \\\n",
      "29603  2012  London      Athletics            Athletics          Pending   \n",
      "31072  2012  London  Weightlifting        Weightlifting          Pending   \n",
      "31091  2012  London  Weightlifting        Weightlifting          Pending   \n",
      "31110  2012  London      Wrestling  Wrestling Freestyle  KUDUKHOV, Besik   \n",
      "\n",
      "      Country Gender     Event   Medal  \n",
      "29603     NaN  Women     1500M    Gold  \n",
      "31072     NaN  Women      63KG    Gold  \n",
      "31091     NaN    Men      94KG  Silver  \n",
      "31110     NaN    Men  Wf 60 KG  Silver  \n"
     ]
    }
   ],
   "source": [
    "#2nd Deducing Null values in the country field. \n",
    "''' Logic: \n",
    "        1-> look into the 4 null value row. \n",
    "        2-> Look into the name of the athlete\n",
    "        3-> Search that athlete if participated in some other event and fetch that record, \n",
    "            and if possible also fetch the Country name filled there.\n",
    "        4. If the athlete name and country name both missing then drop those rows, as we cannot deduce any outcomes from that.\n",
    "'''\n",
    "null_columns = summer_olympic.columns[summer_olympic.isnull().any()]\n",
    "print(summer_olympic[summer_olympic[\"Country\"].isnull()])"
   ]
  },
  {
   "cell_type": "markdown",
   "metadata": {},
   "source": [
    "First looking into athlet names if they already present in the dataset. But above result shows 3 fields are also not filled and wrongly represent the data, So we can drop this three colums without populating the country value.\n",
    "\n",
    "second the Athelete name KUDUKHOV, Besik if associated with some country then we can fill the country detail of that row."
   ]
  },
  {
   "cell_type": "code",
   "execution_count": 130,
   "metadata": {},
   "outputs": [
    {
     "data": {
      "text/plain": [
       "29149    KUDUKHOV, Besik\n",
       "31110    KUDUKHOV, Besik\n",
       "Name: Athlete, dtype: object"
      ]
     },
     "execution_count": 130,
     "metadata": {},
     "output_type": "execute_result"
    }
   ],
   "source": [
    "summer_olympic.Athlete[summer_olympic.Athlete == 'KUDUKHOV, Besik']"
   ]
  },
  {
   "cell_type": "code",
   "execution_count": 131,
   "metadata": {},
   "outputs": [
    {
     "data": {
      "text/html": [
       "<div>\n",
       "<style scoped>\n",
       "    .dataframe tbody tr th:only-of-type {\n",
       "        vertical-align: middle;\n",
       "    }\n",
       "\n",
       "    .dataframe tbody tr th {\n",
       "        vertical-align: top;\n",
       "    }\n",
       "\n",
       "    .dataframe thead th {\n",
       "        text-align: right;\n",
       "    }\n",
       "</style>\n",
       "<table border=\"1\" class=\"dataframe\">\n",
       "  <thead>\n",
       "    <tr style=\"text-align: right;\">\n",
       "      <th></th>\n",
       "      <th>Year</th>\n",
       "      <th>City</th>\n",
       "      <th>Sport</th>\n",
       "      <th>Discipline</th>\n",
       "      <th>Athlete</th>\n",
       "      <th>Country</th>\n",
       "      <th>Gender</th>\n",
       "      <th>Event</th>\n",
       "      <th>Medal</th>\n",
       "    </tr>\n",
       "  </thead>\n",
       "  <tbody>\n",
       "    <tr>\n",
       "      <th>29149</th>\n",
       "      <td>2008</td>\n",
       "      <td>Beijing</td>\n",
       "      <td>Wrestling</td>\n",
       "      <td>Wrestling Free.</td>\n",
       "      <td>KUDUKHOV, Besik</td>\n",
       "      <td>RUS</td>\n",
       "      <td>Men</td>\n",
       "      <td>- 55KG</td>\n",
       "      <td>Bronze</td>\n",
       "    </tr>\n",
       "    <tr>\n",
       "      <th>31110</th>\n",
       "      <td>2012</td>\n",
       "      <td>London</td>\n",
       "      <td>Wrestling</td>\n",
       "      <td>Wrestling Freestyle</td>\n",
       "      <td>KUDUKHOV, Besik</td>\n",
       "      <td>NaN</td>\n",
       "      <td>Men</td>\n",
       "      <td>Wf 60 KG</td>\n",
       "      <td>Silver</td>\n",
       "    </tr>\n",
       "  </tbody>\n",
       "</table>\n",
       "</div>"
      ],
      "text/plain": [
       "       Year     City      Sport           Discipline          Athlete Country  \\\n",
       "29149  2008  Beijing  Wrestling      Wrestling Free.  KUDUKHOV, Besik     RUS   \n",
       "31110  2012   London  Wrestling  Wrestling Freestyle  KUDUKHOV, Besik     NaN   \n",
       "\n",
       "      Gender     Event   Medal  \n",
       "29149    Men    - 55KG  Bronze  \n",
       "31110    Men  Wf 60 KG  Silver  "
      ]
     },
     "execution_count": 131,
     "metadata": {},
     "output_type": "execute_result"
    }
   ],
   "source": [
    "summer_olympic.loc[summer_olympic['Athlete'] == 'KUDUKHOV, Besik']"
   ]
  },
  {
   "cell_type": "code",
   "execution_count": 132,
   "metadata": {},
   "outputs": [],
   "source": [
    "#Filling the NAN with RUS as both row belongs to same athlete and so most chance he is part of the same Country\n",
    "summer_olympic.iloc[31110,5] ='RUS'"
   ]
  },
  {
   "cell_type": "code",
   "execution_count": 116,
   "metadata": {},
   "outputs": [
    {
     "data": {
      "text/plain": [
       "Year          0\n",
       "City          0\n",
       "Sport         0\n",
       "Discipline    0\n",
       "Athlete       0\n",
       "Country       0\n",
       "Gender        0\n",
       "Event         0\n",
       "Medal         0\n",
       "dtype: int64"
      ]
     },
     "execution_count": 116,
     "metadata": {},
     "output_type": "execute_result"
    }
   ],
   "source": [
    "#Droping other 3 rows which has country NAN and Athelete is also listed with dummy values. \n",
    "summer_olympic = summer_olympic.dropna(how='any',axis=0)\n",
    "summer_olympic.isnull().sum()"
   ]
  },
  {
   "cell_type": "markdown",
   "metadata": {},
   "source": [
    "# After preprocessing the datset.\n",
    "\n",
    "Now Creating After preprocessing dataset to analyze the data properly."
   ]
  },
  {
   "cell_type": "code",
   "execution_count": 137,
   "metadata": {},
   "outputs": [],
   "source": [
    "profile = pandas_profiling.ProfileReport(summer_olympic)\n",
    "profile.to_file(outputfile=\"summer_olympic_after_preprocessing.html\")"
   ]
  },
  {
   "cell_type": "markdown",
   "metadata": {},
   "source": [
    "# Analysis through Questionarie: \n",
    "\n",
    "### 1. The list of total medals owned by athlets in All categories"
   ]
  },
  {
   "cell_type": "code",
   "execution_count": 138,
   "metadata": {},
   "outputs": [
    {
     "data": {
      "text/plain": [
       "Gold      10484\n",
       "Bronze    10369\n",
       "Silver    10310\n",
       "Name: Medal, dtype: int64"
      ]
     },
     "execution_count": 138,
     "metadata": {},
     "output_type": "execute_result"
    }
   ],
   "source": [
    "summer_olympic['Medal'].value_counts()"
   ]
  },
  {
   "cell_type": "code",
   "execution_count": 139,
   "metadata": {},
   "outputs": [
    {
     "data": {
      "text/plain": [
       "Text(0.5, 1.0, 'Count plot for Medal.')"
      ]
     },
     "execution_count": 139,
     "metadata": {},
     "output_type": "execute_result"
    },
    {
     "data": {
      "image/png": "[encoded data removed]",
      "text/plain": [
       "<Figure size 800x550 with 1 Axes>"
      ]
     },
     "metadata": {},
     "output_type": "display_data"
    }
   ],
   "source": [
    "sns.countplot(x='Medal', data=summer_olympic).set_title('Count plot for Medal.')"
   ]
  },
  {
   "cell_type": "markdown",
   "metadata": {},
   "source": [
    "#### OutCome: \n",
    "\n",
    "It seems that almost a small difference between these 3 medals won by athletes. and that indicates some of the athletes medal updation on the datset is missing. As normal case must be: Gold = Silver = Bronze. \n",
    "\n",
    "From the above outcome its clear that there are around 174 entries missing who won Bronze and 115 entries are missing who won Silver.\n",
    "\n",
    "So total missing values: 174+115 = 289"
   ]
  },
  {
   "cell_type": "markdown",
   "metadata": {},
   "source": [
    "### 2. Total no of Men and women athletes who won medals."
   ]
  },
  {
   "cell_type": "code",
   "execution_count": 140,
   "metadata": {},
   "outputs": [
    {
     "data": {
      "text/plain": [
       "Gender\n",
       "Men      22745\n",
       "Women     8418\n",
       "Name: Gender, dtype: int64"
      ]
     },
     "execution_count": 140,
     "metadata": {},
     "output_type": "execute_result"
    }
   ],
   "source": [
    "summer_olympic.groupby(['Gender'])['Gender'].count()"
   ]
  },
  {
   "cell_type": "code",
   "execution_count": 141,
   "metadata": {},
   "outputs": [
    {
     "data": {
      "text/plain": [
       "Text(0.5, 1.0, 'Count plot for Mean and Women Participants.')"
      ]
     },
     "execution_count": 141,
     "metadata": {},
     "output_type": "execute_result"
    },
    {
     "data": {
      "image/png": "[encoded data removed]",
      "text/plain": [
       "<Figure size 800x550 with 1 Axes>"
      ]
     },
     "metadata": {},
     "output_type": "display_data"
    }
   ],
   "source": [
    "sns.countplot(x='Gender', data=summer_olympic).set_title('Count plot for Mean and Women Participants.')"
   ]
  },
  {
   "cell_type": "code",
   "execution_count": 46,
   "metadata": {},
   "outputs": [
    {
     "data": {
      "text/plain": [
       "Text(0, 0.5, 'PARTICIPANTS')"
      ]
     },
     "execution_count": 46,
     "metadata": {},
     "output_type": "execute_result"
    },
    {
     "data": {
      "image/png": "[encoded data removed]",
      "text/plain": [
       "<Figure size 800x550 with 1 Axes>"
      ]
     },
     "metadata": {},
     "output_type": "display_data"
    }
   ],
   "source": [
    "groupedGender = pd.concat([summer_olympic,pd.get_dummies(summer_olympic.Gender)],axis=1).groupby(['Year'],as_index=False).sum()\n",
    "groupedGender.head()\n",
    "plt.plot(groupedGender.Year,groupedGender.Men)\n",
    "plt.plot(groupedGender.Year,groupedGender.Women,color='Red')\n",
    "\n",
    "plt.plot(groupedGender.Year,groupedGender.Men,'bo')\n",
    "plt.plot(groupedGender.Year,groupedGender.Women,'bo',color='Red')\n",
    "\n",
    "plt.legend(['Male','Female'])\n",
    "plt.xlabel('YEAR')\n",
    "plt.ylabel('PARTICIPANTS')"
   ]
  },
  {
   "cell_type": "markdown",
   "metadata": {},
   "source": [
    "#### Outcome:\n",
    "\n",
    "From the above graph its clear that Men participants are much more as compared to Women. \n",
    "But a good thing happen is that as year wise olympic progresses the women particpant also increases. Great sign for sports."
   ]
  },
  {
   "cell_type": "markdown",
   "metadata": {},
   "source": [
    "### 3. Total no of disciplines on which medal own by athletes."
   ]
  },
  {
   "cell_type": "code",
   "execution_count": 148,
   "metadata": {},
   "outputs": [
    {
     "data": {
      "text/plain": [
       "Discipline\n",
       "Athletics      3638\n",
       "Rowing         2667\n",
       "Swimming       2628\n",
       "Artistic G.    2103\n",
       "Fencing        1613\n",
       "Name: Discipline, dtype: int64"
      ]
     },
     "execution_count": 148,
     "metadata": {},
     "output_type": "execute_result"
    }
   ],
   "source": [
    "summer_olympic.groupby(['Discipline'])['Discipline'].count().sort_values(ascending=False).head()"
   ]
  },
  {
   "cell_type": "code",
   "execution_count": 150,
   "metadata": {},
   "outputs": [
    {
     "data": {
      "text/plain": [
       "Discipline\n",
       "Modern Pentathlon    6\n",
       "Water Motorspor      5\n",
       "Basque Pelota        4\n",
       "Roque                3\n",
       "Jeu de Paume         3\n",
       "Name: Discipline, dtype: int64"
      ]
     },
     "execution_count": 150,
     "metadata": {},
     "output_type": "execute_result"
    }
   ],
   "source": [
    "summer_olympic.groupby(['Discipline'])['Discipline'].count().sort_values(ascending=False).tail()"
   ]
  },
  {
   "cell_type": "code",
   "execution_count": 149,
   "metadata": {},
   "outputs": [
    {
     "data": {
      "text/plain": [
       "Text(0.5, 1.0, 'Count plot for Sport discipline.')"
      ]
     },
     "execution_count": 149,
     "metadata": {},
     "output_type": "execute_result"
    },
    {
     "data": {
      "image/png": "[encoded data removed]",
      "text/plain": [
       "<Figure size 800x550 with 1 Axes>"
      ]
     },
     "metadata": {},
     "output_type": "display_data"
    }
   ],
   "source": [
    "sns.countplot(x='Discipline', data=summer_olympic).set_title('Count plot for Sport discipline.')"
   ]
  },
  {
   "cell_type": "markdown",
   "metadata": {},
   "source": [
    "#### outcome: \n",
    "From the previous Code its clear that below are the events fetch more medals:\n",
    "Athletics      3638\n",
    "Rowing         2667\n",
    "Swimming       2628\n",
    "Artistic G.    2103\n",
    "Fencing        1613\n",
    "\n",
    "And below fetch less medals:\n",
    "Modern Pentathlon    6\n",
    "Water Motorspor      5\n",
    "Basque Pelota        4\n",
    "Roque                3\n",
    "Jeu de Paume         3\n",
    "\n",
    "I am not sure what these games are but as they are present just following them in the analysis."
   ]
  },
  {
   "cell_type": "markdown",
   "metadata": {},
   "source": [
    "### 4. The year in which the summer olympic played on"
   ]
  },
  {
   "cell_type": "code",
   "execution_count": 48,
   "metadata": {
    "scrolled": true
   },
   "outputs": [
    {
     "data": {
      "text/plain": [
       "array([1896, 1900, 1904, 1908, 1912, 1920, 1924, 1928, 1932, 1936, 1948,\n",
       "       1952, 1956, 1960, 1964, 1968, 1972, 1976, 1980, 1984, 1988, 1992,\n",
       "       1996, 2000, 2004, 2008, 2012], dtype=int64)"
      ]
     },
     "execution_count": 48,
     "metadata": {},
     "output_type": "execute_result"
    }
   ],
   "source": [
    "summer_olympic['Year'].unique()"
   ]
  },
  {
   "cell_type": "markdown",
   "metadata": {},
   "source": [
    "#### outcome\n",
    "\n",
    "From the above years we found though olumpic is carried out in every 4 year,but because of wordwar 1940 and 1944 is missing,\n",
    "And its true that No olympic is played on these 2 set."
   ]
  },
  {
   "cell_type": "markdown",
   "metadata": {},
   "source": [
    "### 5. No of medals won in year wise"
   ]
  },
  {
   "cell_type": "code",
   "execution_count": 49,
   "metadata": {},
   "outputs": [
    {
     "data": {
      "text/plain": [
       "2008    2042\n",
       "2000    2015\n",
       "2004    1998\n",
       "2012    1945\n",
       "1996    1859\n",
       "1992    1705\n",
       "1988    1546\n",
       "1984    1459\n",
       "1980    1386\n",
       "1976    1305\n",
       "1920    1298\n",
       "1972    1185\n",
       "1968    1031\n",
       "1964    1010\n",
       "1952     889\n",
       "1956     885\n",
       "1912     885\n",
       "1924     884\n",
       "1960     882\n",
       "1936     875\n",
       "1948     814\n",
       "1908     804\n",
       "1928     710\n",
       "1932     615\n",
       "1900     512\n",
       "1904     470\n",
       "1896     151\n",
       "Name: Year, dtype: int64"
      ]
     },
     "execution_count": 49,
     "metadata": {},
     "output_type": "execute_result"
    }
   ],
   "source": [
    "summer_olympic['Year'].value_counts()"
   ]
  },
  {
   "cell_type": "code",
   "execution_count": 50,
   "metadata": {},
   "outputs": [
    {
     "data": {
      "text/plain": [
       "Text(0.5, 1.0, 'Count plot for Year.')"
      ]
     },
     "execution_count": 50,
     "metadata": {},
     "output_type": "execute_result"
    },
    {
     "data": {
      "image/png": "[encoded data removed]",
      "text/plain": [
       "<Figure size 800x550 with 1 Axes>"
      ]
     },
     "metadata": {},
     "output_type": "display_data"
    }
   ],
   "source": [
    "sns.countplot(x='Year', data=summer_olympic).set_title('Count plot for Year.')"
   ]
  },
  {
   "cell_type": "markdown",
   "metadata": {},
   "source": [
    "#### Outcome:\n",
    "\n",
    "From the above analysis 2008 is the year on which medal won is highest and 1896 is the lowest. And its obvious that during starting of olympic less games are played and once it continues new games are added. \n"
   ]
  },
  {
   "cell_type": "markdown",
   "metadata": {},
   "source": [
    "### 6. Medal won by Country wise"
   ]
  },
  {
   "cell_type": "code",
   "execution_count": 151,
   "metadata": {},
   "outputs": [
    {
     "data": {
      "text/plain": [
       "Text(0.5, 1.0, 'Count plot for Medal won by Country wise.')"
      ]
     },
     "execution_count": 151,
     "metadata": {},
     "output_type": "execute_result"
    },
    {
     "data": {
      "image/png": "[encoded data removed]",
      "text/plain": [
       "<Figure size 800x550 with 1 Axes>"
      ]
     },
     "metadata": {},
     "output_type": "display_data"
    }
   ],
   "source": [
    "sns.countplot(x='Country', data=summer_olympic).set_title('Count plot for Medal won by Country wise.')"
   ]
  },
  {
   "cell_type": "markdown",
   "metadata": {},
   "source": [
    "#### Outcome:\n",
    "USA is the country who top in the mdeal tally than others."
   ]
  },
  {
   "cell_type": "markdown",
   "metadata": {},
   "source": [
    "### 7. Year wise countries participation."
   ]
  },
  {
   "cell_type": "code",
   "execution_count": 152,
   "metadata": {},
   "outputs": [
    {
     "name": "stdout",
     "output_type": "stream",
     "text": [
      "No of participating nations:->  148\n"
     ]
    }
   ],
   "source": [
    "print('No of participating nations:-> ',len(summer_olympic.Country.unique()))"
   ]
  },
  {
   "cell_type": "code",
   "execution_count": 153,
   "metadata": {},
   "outputs": [
    {
     "data": {
      "text/plain": [
       "Text(0, 0.5, 'COUNTRY')"
      ]
     },
     "execution_count": 153,
     "metadata": {},
     "output_type": "execute_result"
    },
    {
     "data": {
      "image/png": "[encoded data removed]",
      "text/plain": [
       "<Figure size 1800x1200 with 1 Axes>"
      ]
     },
     "metadata": {},
     "output_type": "display_data"
    }
   ],
   "source": [
    "groupByCountryAndYear = summer_olympic.groupby(['Year','Country'],as_index=False).count()[['Year','Country']]\n",
    "groupByCountryAndYear = groupByCountryAndYear.groupby('Year',as_index=False).count()\n",
    "#groupByCountryAndYear\n",
    "sns.set(rc={'figure.figsize':(18,12)})\n",
    "plot1 = sns.barplot('Year','Country',data=groupByCountryAndYear).set_xticklabels(groupByCountryAndYear.Year,rotation=82)\n",
    "plt.xlabel('YEAR')\n",
    "plt.ylabel(\"COUNTRY\")"
   ]
  },
  {
   "cell_type": "markdown",
   "metadata": {},
   "source": [
    "#### Outcome:\n",
    "From the graph its clear that the no of participant country is increasing year by year. That means its gains popularity in different countries.The graph is shown below is clear the point."
   ]
  },
  {
   "cell_type": "code",
   "execution_count": 155,
   "metadata": {},
   "outputs": [],
   "source": [
    "df = pd.concat([summer_olympic,pd.get_dummies(summer_olympic.Medal)],axis=1)"
   ]
  },
  {
   "cell_type": "code",
   "execution_count": 156,
   "metadata": {},
   "outputs": [],
   "source": [
    "df['AllMedals'] = df['AllMedals'] = df['Bronze']+df['Silver']+df['Gold']"
   ]
  },
  {
   "cell_type": "code",
   "execution_count": 157,
   "metadata": {},
   "outputs": [
    {
     "data": {
      "text/html": [
       "<div>\n",
       "<style scoped>\n",
       "    .dataframe tbody tr th:only-of-type {\n",
       "        vertical-align: middle;\n",
       "    }\n",
       "\n",
       "    .dataframe tbody tr th {\n",
       "        vertical-align: top;\n",
       "    }\n",
       "\n",
       "    .dataframe thead th {\n",
       "        text-align: right;\n",
       "    }\n",
       "</style>\n",
       "<table border=\"1\" class=\"dataframe\">\n",
       "  <thead>\n",
       "    <tr style=\"text-align: right;\">\n",
       "      <th></th>\n",
       "      <th>Year</th>\n",
       "      <th>City</th>\n",
       "      <th>Sport</th>\n",
       "      <th>Discipline</th>\n",
       "      <th>Athlete</th>\n",
       "      <th>Country</th>\n",
       "      <th>Gender</th>\n",
       "      <th>Event</th>\n",
       "      <th>Medal</th>\n",
       "      <th>Bronze</th>\n",
       "      <th>Gold</th>\n",
       "      <th>Silver</th>\n",
       "      <th>AllMedals</th>\n",
       "    </tr>\n",
       "  </thead>\n",
       "  <tbody>\n",
       "    <tr>\n",
       "      <th>0</th>\n",
       "      <td>1896</td>\n",
       "      <td>Athens</td>\n",
       "      <td>Aquatics</td>\n",
       "      <td>Swimming</td>\n",
       "      <td>HAJOS, Alfred</td>\n",
       "      <td>HUN</td>\n",
       "      <td>Men</td>\n",
       "      <td>100M Freestyle</td>\n",
       "      <td>Gold</td>\n",
       "      <td>0</td>\n",
       "      <td>1</td>\n",
       "      <td>0</td>\n",
       "      <td>1</td>\n",
       "    </tr>\n",
       "    <tr>\n",
       "      <th>1</th>\n",
       "      <td>1896</td>\n",
       "      <td>Athens</td>\n",
       "      <td>Aquatics</td>\n",
       "      <td>Swimming</td>\n",
       "      <td>HERSCHMANN, Otto</td>\n",
       "      <td>AUT</td>\n",
       "      <td>Men</td>\n",
       "      <td>100M Freestyle</td>\n",
       "      <td>Silver</td>\n",
       "      <td>0</td>\n",
       "      <td>0</td>\n",
       "      <td>1</td>\n",
       "      <td>1</td>\n",
       "    </tr>\n",
       "    <tr>\n",
       "      <th>2</th>\n",
       "      <td>1896</td>\n",
       "      <td>Athens</td>\n",
       "      <td>Aquatics</td>\n",
       "      <td>Swimming</td>\n",
       "      <td>DRIVAS, Dimitrios</td>\n",
       "      <td>GRE</td>\n",
       "      <td>Men</td>\n",
       "      <td>100M Freestyle For Sailors</td>\n",
       "      <td>Bronze</td>\n",
       "      <td>1</td>\n",
       "      <td>0</td>\n",
       "      <td>0</td>\n",
       "      <td>1</td>\n",
       "    </tr>\n",
       "    <tr>\n",
       "      <th>3</th>\n",
       "      <td>1896</td>\n",
       "      <td>Athens</td>\n",
       "      <td>Aquatics</td>\n",
       "      <td>Swimming</td>\n",
       "      <td>MALOKINIS, Ioannis</td>\n",
       "      <td>GRE</td>\n",
       "      <td>Men</td>\n",
       "      <td>100M Freestyle For Sailors</td>\n",
       "      <td>Gold</td>\n",
       "      <td>0</td>\n",
       "      <td>1</td>\n",
       "      <td>0</td>\n",
       "      <td>1</td>\n",
       "    </tr>\n",
       "    <tr>\n",
       "      <th>4</th>\n",
       "      <td>1896</td>\n",
       "      <td>Athens</td>\n",
       "      <td>Aquatics</td>\n",
       "      <td>Swimming</td>\n",
       "      <td>CHASAPIS, Spiridon</td>\n",
       "      <td>GRE</td>\n",
       "      <td>Men</td>\n",
       "      <td>100M Freestyle For Sailors</td>\n",
       "      <td>Silver</td>\n",
       "      <td>0</td>\n",
       "      <td>0</td>\n",
       "      <td>1</td>\n",
       "      <td>1</td>\n",
       "    </tr>\n",
       "  </tbody>\n",
       "</table>\n",
       "</div>"
      ],
      "text/plain": [
       "   Year    City     Sport Discipline             Athlete Country Gender  \\\n",
       "0  1896  Athens  Aquatics   Swimming       HAJOS, Alfred     HUN    Men   \n",
       "1  1896  Athens  Aquatics   Swimming    HERSCHMANN, Otto     AUT    Men   \n",
       "2  1896  Athens  Aquatics   Swimming   DRIVAS, Dimitrios     GRE    Men   \n",
       "3  1896  Athens  Aquatics   Swimming  MALOKINIS, Ioannis     GRE    Men   \n",
       "4  1896  Athens  Aquatics   Swimming  CHASAPIS, Spiridon     GRE    Men   \n",
       "\n",
       "                        Event   Medal  Bronze  Gold  Silver  AllMedals  \n",
       "0              100M Freestyle    Gold       0     1       0          1  \n",
       "1              100M Freestyle  Silver       0     0       1          1  \n",
       "2  100M Freestyle For Sailors  Bronze       1     0       0          1  \n",
       "3  100M Freestyle For Sailors    Gold       0     1       0          1  \n",
       "4  100M Freestyle For Sailors  Silver       0     0       1          1  "
      ]
     },
     "execution_count": 157,
     "metadata": {},
     "output_type": "execute_result"
    }
   ],
   "source": [
    "df.head()"
   ]
  },
  {
   "cell_type": "code",
   "execution_count": 158,
   "metadata": {},
   "outputs": [],
   "source": [
    "groupByCountry = df.groupby(by=['Country'],as_index=False).sum()"
   ]
  },
  {
   "cell_type": "code",
   "execution_count": 159,
   "metadata": {},
   "outputs": [],
   "source": [
    "top50 = groupByCountry.sort_values(by=['AllMedals'],ascending = False).head(50)"
   ]
  },
  {
   "cell_type": "code",
   "execution_count": 160,
   "metadata": {},
   "outputs": [
    {
     "data": {
      "image/png": "[encoded data removed]",
      "text/plain": [
       "<Figure size 1800x1200 with 1 Axes>"
      ]
     },
     "metadata": {},
     "output_type": "display_data"
    }
   ],
   "source": [
    "plot2 = sns.barplot('Country','AllMedals',data=top50).set_xticklabels(top50.Country,rotation=82)"
   ]
  },
  {
   "cell_type": "markdown",
   "metadata": {},
   "source": [
    "### 8.Year wise top countries."
   ]
  },
  {
   "cell_type": "code",
   "execution_count": 161,
   "metadata": {},
   "outputs": [],
   "source": [
    "groupByYearAndCountry = df.groupby(by=['Year','Country'],as_index=False).sum()\n",
    "\n",
    "yearTop = pd.DataFrame()\n",
    "y= df.Year.unique()\n",
    "for i in y:\n",
    "    yearTop = pd.concat([yearTop,groupByYearAndCountry[groupByYearAndCountry['Year'] == i].sort_values(by=['AllMedals'],ascending=False).head(1)])"
   ]
  },
  {
   "cell_type": "code",
   "execution_count": 162,
   "metadata": {},
   "outputs": [
    {
     "data": {
      "image/png": "[encoded data removed]",
      "text/plain": [
       "<Figure size 1800x1200 with 1 Axes>"
      ]
     },
     "metadata": {},
     "output_type": "display_data"
    }
   ],
   "source": [
    "fig,ax = plab.subplots()\n",
    "\n",
    "sns.barplot('Year','AllMedals',hue='Country',data=yearTop,ax=ax)\n",
    "\n",
    "def change_width(ax,new_value):\n",
    "    for patch in ax.patches:\n",
    "        cur_width = patch.get_width()\n",
    "        diff = cur_width - new_value\n",
    "        \n",
    "        patch.set_width(new_value)\n",
    "        \n",
    "        patch.set_x(patch.get_x() + diff * .5)\n",
    "        \n",
    "change_width(ax,.50)\n",
    "\n",
    "plab.show()"
   ]
  },
  {
   "cell_type": "markdown",
   "metadata": {},
   "source": [
    "#### outcome: \n",
    "From the above its clear that from 1896 to 2012:- USA top for 14 times. And second is by USSR (Soviet Union)"
   ]
  },
  {
   "cell_type": "markdown",
   "metadata": {},
   "source": [
    "### 9. The Countries domination on a sport"
   ]
  },
  {
   "cell_type": "code",
   "execution_count": 163,
   "metadata": {},
   "outputs": [
    {
     "data": {
      "text/html": [
       "<div>\n",
       "<style scoped>\n",
       "    .dataframe tbody tr th:only-of-type {\n",
       "        vertical-align: middle;\n",
       "    }\n",
       "\n",
       "    .dataframe tbody tr th {\n",
       "        vertical-align: top;\n",
       "    }\n",
       "\n",
       "    .dataframe thead th {\n",
       "        text-align: right;\n",
       "    }\n",
       "</style>\n",
       "<table border=\"1\" class=\"dataframe\">\n",
       "  <thead>\n",
       "    <tr style=\"text-align: right;\">\n",
       "      <th></th>\n",
       "      <th>Sport</th>\n",
       "      <th>Country</th>\n",
       "      <th>Bronze</th>\n",
       "      <th>Silver</th>\n",
       "      <th>Gold</th>\n",
       "      <th>AllMedals</th>\n",
       "    </tr>\n",
       "  </thead>\n",
       "  <tbody>\n",
       "    <tr>\n",
       "      <th>53</th>\n",
       "      <td>Aquatics</td>\n",
       "      <td>USA</td>\n",
       "      <td>262.0</td>\n",
       "      <td>344.0</td>\n",
       "      <td>578.0</td>\n",
       "      <td>1184.0</td>\n",
       "    </tr>\n",
       "    <tr>\n",
       "      <th>173</th>\n",
       "      <td>Athletics</td>\n",
       "      <td>USA</td>\n",
       "      <td>208.0</td>\n",
       "      <td>295.0</td>\n",
       "      <td>491.0</td>\n",
       "      <td>994.0</td>\n",
       "    </tr>\n",
       "    <tr>\n",
       "      <th>371</th>\n",
       "      <td>Cycling</td>\n",
       "      <td>GBR</td>\n",
       "      <td>54.0</td>\n",
       "      <td>49.0</td>\n",
       "      <td>42.0</td>\n",
       "      <td>145.0</td>\n",
       "    </tr>\n",
       "    <tr>\n",
       "      <th>447</th>\n",
       "      <td>Fencing</td>\n",
       "      <td>ITA</td>\n",
       "      <td>71.0</td>\n",
       "      <td>128.0</td>\n",
       "      <td>145.0</td>\n",
       "      <td>344.0</td>\n",
       "    </tr>\n",
       "    <tr>\n",
       "      <th>535</th>\n",
       "      <td>Gymnastics</td>\n",
       "      <td>URS</td>\n",
       "      <td>49.0</td>\n",
       "      <td>99.0</td>\n",
       "      <td>142.0</td>\n",
       "      <td>290.0</td>\n",
       "    </tr>\n",
       "    <tr>\n",
       "      <th>828</th>\n",
       "      <td>Shooting</td>\n",
       "      <td>USA</td>\n",
       "      <td>38.0</td>\n",
       "      <td>36.0</td>\n",
       "      <td>116.0</td>\n",
       "      <td>190.0</td>\n",
       "    </tr>\n",
       "    <tr>\n",
       "      <th>906</th>\n",
       "      <td>Tennis</td>\n",
       "      <td>GBR</td>\n",
       "      <td>16.0</td>\n",
       "      <td>22.0</td>\n",
       "      <td>23.0</td>\n",
       "      <td>61.0</td>\n",
       "    </tr>\n",
       "    <tr>\n",
       "      <th>1027</th>\n",
       "      <td>Weightlifting</td>\n",
       "      <td>URS</td>\n",
       "      <td>2.0</td>\n",
       "      <td>21.0</td>\n",
       "      <td>39.0</td>\n",
       "      <td>62.0</td>\n",
       "    </tr>\n",
       "    <tr>\n",
       "      <th>1088</th>\n",
       "      <td>Wrestling</td>\n",
       "      <td>USA</td>\n",
       "      <td>33.0</td>\n",
       "      <td>43.0</td>\n",
       "      <td>52.0</td>\n",
       "      <td>128.0</td>\n",
       "    </tr>\n",
       "    <tr>\n",
       "      <th>69</th>\n",
       "      <td>Archery</td>\n",
       "      <td>KOR</td>\n",
       "      <td>8.0</td>\n",
       "      <td>11.0</td>\n",
       "      <td>41.0</td>\n",
       "      <td>60.0</td>\n",
       "    </tr>\n",
       "    <tr>\n",
       "      <th>214</th>\n",
       "      <td>Basque Pelota</td>\n",
       "      <td>ESP</td>\n",
       "      <td>0.0</td>\n",
       "      <td>0.0</td>\n",
       "      <td>2.0</td>\n",
       "      <td>2.0</td>\n",
       "    </tr>\n",
       "    <tr>\n",
       "      <th>352</th>\n",
       "      <td>Cricket</td>\n",
       "      <td>FRA</td>\n",
       "      <td>0.0</td>\n",
       "      <td>12.0</td>\n",
       "      <td>0.0</td>\n",
       "      <td>12.0</td>\n",
       "    </tr>\n",
       "    <tr>\n",
       "      <th>354</th>\n",
       "      <td>Croquet</td>\n",
       "      <td>FRA</td>\n",
       "      <td>2.0</td>\n",
       "      <td>2.0</td>\n",
       "      <td>4.0</td>\n",
       "      <td>8.0</td>\n",
       "    </tr>\n",
       "    <tr>\n",
       "      <th>428</th>\n",
       "      <td>Equestrian</td>\n",
       "      <td>USA</td>\n",
       "      <td>48.0</td>\n",
       "      <td>43.0</td>\n",
       "      <td>30.0</td>\n",
       "      <td>121.0</td>\n",
       "    </tr>\n",
       "    <tr>\n",
       "      <th>496</th>\n",
       "      <td>Football</td>\n",
       "      <td>USA</td>\n",
       "      <td>12.0</td>\n",
       "      <td>29.0</td>\n",
       "      <td>91.0</td>\n",
       "      <td>132.0</td>\n",
       "    </tr>\n",
       "    <tr>\n",
       "      <th>500</th>\n",
       "      <td>Golf</td>\n",
       "      <td>USA</td>\n",
       "      <td>3.0</td>\n",
       "      <td>12.0</td>\n",
       "      <td>12.0</td>\n",
       "      <td>27.0</td>\n",
       "    </tr>\n",
       "    <tr>\n",
       "      <th>666</th>\n",
       "      <td>Polo</td>\n",
       "      <td>GBR</td>\n",
       "      <td>5.0</td>\n",
       "      <td>12.0</td>\n",
       "      <td>8.0</td>\n",
       "      <td>25.0</td>\n",
       "    </tr>\n",
       "    <tr>\n",
       "      <th>712</th>\n",
       "      <td>Rowing</td>\n",
       "      <td>USA</td>\n",
       "      <td>87.0</td>\n",
       "      <td>100.0</td>\n",
       "      <td>177.0</td>\n",
       "      <td>364.0</td>\n",
       "    </tr>\n",
       "    <tr>\n",
       "      <th>716</th>\n",
       "      <td>Rugby</td>\n",
       "      <td>FRA</td>\n",
       "      <td>0.0</td>\n",
       "      <td>46.0</td>\n",
       "      <td>17.0</td>\n",
       "      <td>63.0</td>\n",
       "    </tr>\n",
       "    <tr>\n",
       "      <th>764</th>\n",
       "      <td>Sailing</td>\n",
       "      <td>USA</td>\n",
       "      <td>33.0</td>\n",
       "      <td>46.0</td>\n",
       "      <td>60.0</td>\n",
       "      <td>139.0</td>\n",
       "    </tr>\n",
       "    <tr>\n",
       "      <th>937</th>\n",
       "      <td>Tug of War</td>\n",
       "      <td>GBR</td>\n",
       "      <td>9.0</td>\n",
       "      <td>17.0</td>\n",
       "      <td>17.0</td>\n",
       "      <td>43.0</td>\n",
       "    </tr>\n",
       "    <tr>\n",
       "      <th>289</th>\n",
       "      <td>Boxing</td>\n",
       "      <td>USA</td>\n",
       "      <td>39.0</td>\n",
       "      <td>23.0</td>\n",
       "      <td>49.0</td>\n",
       "      <td>111.0</td>\n",
       "    </tr>\n",
       "    <tr>\n",
       "      <th>640</th>\n",
       "      <td>Lacrosse</td>\n",
       "      <td>CAN</td>\n",
       "      <td>0.0</td>\n",
       "      <td>0.0</td>\n",
       "      <td>28.0</td>\n",
       "      <td>28.0</td>\n",
       "    </tr>\n",
       "    <tr>\n",
       "      <th>671</th>\n",
       "      <td>Roque</td>\n",
       "      <td>USA</td>\n",
       "      <td>1.0</td>\n",
       "      <td>1.0</td>\n",
       "      <td>1.0</td>\n",
       "      <td>3.0</td>\n",
       "    </tr>\n",
       "    <tr>\n",
       "      <th>576</th>\n",
       "      <td>Hockey</td>\n",
       "      <td>NED</td>\n",
       "      <td>88.0</td>\n",
       "      <td>81.0</td>\n",
       "      <td>80.0</td>\n",
       "      <td>249.0</td>\n",
       "    </tr>\n",
       "    <tr>\n",
       "      <th>586</th>\n",
       "      <td>Jeu de paume</td>\n",
       "      <td>GBR</td>\n",
       "      <td>1.0</td>\n",
       "      <td>1.0</td>\n",
       "      <td>0.0</td>\n",
       "      <td>2.0</td>\n",
       "    </tr>\n",
       "    <tr>\n",
       "      <th>670</th>\n",
       "      <td>Rackets</td>\n",
       "      <td>GBR</td>\n",
       "      <td>4.0</td>\n",
       "      <td>3.0</td>\n",
       "      <td>3.0</td>\n",
       "      <td>10.0</td>\n",
       "    </tr>\n",
       "    <tr>\n",
       "      <th>832</th>\n",
       "      <td>Skating</td>\n",
       "      <td>GBR</td>\n",
       "      <td>5.0</td>\n",
       "      <td>3.0</td>\n",
       "      <td>1.0</td>\n",
       "      <td>9.0</td>\n",
       "    </tr>\n",
       "    <tr>\n",
       "      <th>969</th>\n",
       "      <td>Water Motorsports</td>\n",
       "      <td>GBR</td>\n",
       "      <td>0.0</td>\n",
       "      <td>0.0</td>\n",
       "      <td>4.0</td>\n",
       "      <td>4.0</td>\n",
       "    </tr>\n",
       "    <tr>\n",
       "      <th>652</th>\n",
       "      <td>Modern Pentathlon</td>\n",
       "      <td>HUN</td>\n",
       "      <td>9.0</td>\n",
       "      <td>12.0</td>\n",
       "      <td>17.0</td>\n",
       "      <td>38.0</td>\n",
       "    </tr>\n",
       "    <tr>\n",
       "      <th>585</th>\n",
       "      <td>Ice Hockey</td>\n",
       "      <td>USA</td>\n",
       "      <td>0.0</td>\n",
       "      <td>11.0</td>\n",
       "      <td>0.0</td>\n",
       "      <td>11.0</td>\n",
       "    </tr>\n",
       "    <tr>\n",
       "      <th>212</th>\n",
       "      <td>Basketball</td>\n",
       "      <td>USA</td>\n",
       "      <td>36.0</td>\n",
       "      <td>24.0</td>\n",
       "      <td>258.0</td>\n",
       "      <td>318.0</td>\n",
       "    </tr>\n",
       "    <tr>\n",
       "      <th>331</th>\n",
       "      <td>Canoe / Kayak</td>\n",
       "      <td>HUN</td>\n",
       "      <td>43.0</td>\n",
       "      <td>56.0</td>\n",
       "      <td>38.0</td>\n",
       "      <td>137.0</td>\n",
       "    </tr>\n",
       "    <tr>\n",
       "      <th>551</th>\n",
       "      <td>Handball</td>\n",
       "      <td>KOR</td>\n",
       "      <td>14.0</td>\n",
       "      <td>57.0</td>\n",
       "      <td>25.0</td>\n",
       "      <td>96.0</td>\n",
       "    </tr>\n",
       "    <tr>\n",
       "      <th>617</th>\n",
       "      <td>Judo</td>\n",
       "      <td>JPN</td>\n",
       "      <td>18.0</td>\n",
       "      <td>18.0</td>\n",
       "      <td>36.0</td>\n",
       "      <td>72.0</td>\n",
       "    </tr>\n",
       "    <tr>\n",
       "      <th>965</th>\n",
       "      <td>Volleyball</td>\n",
       "      <td>URS</td>\n",
       "      <td>12.0</td>\n",
       "      <td>48.0</td>\n",
       "      <td>84.0</td>\n",
       "      <td>144.0</td>\n",
       "    </tr>\n",
       "    <tr>\n",
       "      <th>842</th>\n",
       "      <td>Table Tennis</td>\n",
       "      <td>CHN</td>\n",
       "      <td>9.0</td>\n",
       "      <td>21.0</td>\n",
       "      <td>41.0</td>\n",
       "      <td>71.0</td>\n",
       "    </tr>\n",
       "    <tr>\n",
       "      <th>178</th>\n",
       "      <td>Badminton</td>\n",
       "      <td>CHN</td>\n",
       "      <td>21.0</td>\n",
       "      <td>13.0</td>\n",
       "      <td>24.0</td>\n",
       "      <td>58.0</td>\n",
       "    </tr>\n",
       "    <tr>\n",
       "      <th>189</th>\n",
       "      <td>Baseball</td>\n",
       "      <td>CUB</td>\n",
       "      <td>0.0</td>\n",
       "      <td>48.0</td>\n",
       "      <td>63.0</td>\n",
       "      <td>111.0</td>\n",
       "    </tr>\n",
       "    <tr>\n",
       "      <th>838</th>\n",
       "      <td>Softball</td>\n",
       "      <td>AUS</td>\n",
       "      <td>45.0</td>\n",
       "      <td>15.0</td>\n",
       "      <td>0.0</td>\n",
       "      <td>60.0</td>\n",
       "    </tr>\n",
       "    <tr>\n",
       "      <th>876</th>\n",
       "      <td>Taekwondo</td>\n",
       "      <td>KOR</td>\n",
       "      <td>2.0</td>\n",
       "      <td>2.0</td>\n",
       "      <td>10.0</td>\n",
       "      <td>14.0</td>\n",
       "    </tr>\n",
       "    <tr>\n",
       "      <th>923</th>\n",
       "      <td>Triathlon</td>\n",
       "      <td>AUS</td>\n",
       "      <td>2.0</td>\n",
       "      <td>2.0</td>\n",
       "      <td>1.0</td>\n",
       "      <td>5.0</td>\n",
       "    </tr>\n",
       "    <tr>\n",
       "      <th>302</th>\n",
       "      <td>Canoe</td>\n",
       "      <td>HUN</td>\n",
       "      <td>1.0</td>\n",
       "      <td>6.0</td>\n",
       "      <td>7.0</td>\n",
       "      <td>14.0</td>\n",
       "    </tr>\n",
       "  </tbody>\n",
       "</table>\n",
       "</div>"
      ],
      "text/plain": [
       "                  Sport Country  Bronze  Silver   Gold  AllMedals\n",
       "53             Aquatics     USA   262.0   344.0  578.0     1184.0\n",
       "173           Athletics     USA   208.0   295.0  491.0      994.0\n",
       "371             Cycling     GBR    54.0    49.0   42.0      145.0\n",
       "447             Fencing     ITA    71.0   128.0  145.0      344.0\n",
       "535          Gymnastics     URS    49.0    99.0  142.0      290.0\n",
       "828            Shooting     USA    38.0    36.0  116.0      190.0\n",
       "906              Tennis     GBR    16.0    22.0   23.0       61.0\n",
       "1027      Weightlifting     URS     2.0    21.0   39.0       62.0\n",
       "1088          Wrestling     USA    33.0    43.0   52.0      128.0\n",
       "69              Archery     KOR     8.0    11.0   41.0       60.0\n",
       "214       Basque Pelota     ESP     0.0     0.0    2.0        2.0\n",
       "352             Cricket     FRA     0.0    12.0    0.0       12.0\n",
       "354             Croquet     FRA     2.0     2.0    4.0        8.0\n",
       "428          Equestrian     USA    48.0    43.0   30.0      121.0\n",
       "496            Football     USA    12.0    29.0   91.0      132.0\n",
       "500                Golf     USA     3.0    12.0   12.0       27.0\n",
       "666                Polo     GBR     5.0    12.0    8.0       25.0\n",
       "712              Rowing     USA    87.0   100.0  177.0      364.0\n",
       "716               Rugby     FRA     0.0    46.0   17.0       63.0\n",
       "764             Sailing     USA    33.0    46.0   60.0      139.0\n",
       "937          Tug of War     GBR     9.0    17.0   17.0       43.0\n",
       "289              Boxing     USA    39.0    23.0   49.0      111.0\n",
       "640            Lacrosse     CAN     0.0     0.0   28.0       28.0\n",
       "671               Roque     USA     1.0     1.0    1.0        3.0\n",
       "576              Hockey     NED    88.0    81.0   80.0      249.0\n",
       "586        Jeu de paume     GBR     1.0     1.0    0.0        2.0\n",
       "670             Rackets     GBR     4.0     3.0    3.0       10.0\n",
       "832             Skating     GBR     5.0     3.0    1.0        9.0\n",
       "969   Water Motorsports     GBR     0.0     0.0    4.0        4.0\n",
       "652   Modern Pentathlon     HUN     9.0    12.0   17.0       38.0\n",
       "585          Ice Hockey     USA     0.0    11.0    0.0       11.0\n",
       "212          Basketball     USA    36.0    24.0  258.0      318.0\n",
       "331       Canoe / Kayak     HUN    43.0    56.0   38.0      137.0\n",
       "551            Handball     KOR    14.0    57.0   25.0       96.0\n",
       "617                Judo     JPN    18.0    18.0   36.0       72.0\n",
       "965          Volleyball     URS    12.0    48.0   84.0      144.0\n",
       "842        Table Tennis     CHN     9.0    21.0   41.0       71.0\n",
       "178           Badminton     CHN    21.0    13.0   24.0       58.0\n",
       "189            Baseball     CUB     0.0    48.0   63.0      111.0\n",
       "838            Softball     AUS    45.0    15.0    0.0       60.0\n",
       "876           Taekwondo     KOR     2.0     2.0   10.0       14.0\n",
       "923           Triathlon     AUS     2.0     2.0    1.0        5.0\n",
       "302               Canoe     HUN     1.0     6.0    7.0       14.0"
      ]
     },
     "execution_count": 163,
     "metadata": {},
     "output_type": "execute_result"
    }
   ],
   "source": [
    "grpBySport = df.groupby(by=['Sport','Country'],as_index=False).sum()\n",
    "\n",
    "sportTop = pd.DataFrame()\n",
    "\n",
    "sp = df.Sport.unique()\n",
    "\n",
    "for i in sp:\n",
    "    sportTop = pd.concat([sportTop,grpBySport[grpBySport['Sport'] == i].sort_values(by=['AllMedals'],ascending=False).head(1)])\n",
    "\n",
    "sportTop = sportTop[['Sport','Country','Bronze','Silver','Gold','AllMedals']]\n",
    "sportTop"
   ]
  },
  {
   "cell_type": "markdown",
   "metadata": {},
   "source": [
    "### 10. Dominance by USA on summer olympic in Sport as per medal tally"
   ]
  },
  {
   "cell_type": "code",
   "execution_count": 63,
   "metadata": {},
   "outputs": [
    {
     "data": {
      "text/plain": [
       "{'Aquatics',\n",
       " 'Athletics',\n",
       " 'Basketball',\n",
       " 'Boxing',\n",
       " 'Equestrian',\n",
       " 'Football',\n",
       " 'Golf',\n",
       " 'Ice Hockey',\n",
       " 'Roque',\n",
       " 'Rowing',\n",
       " 'Sailing',\n",
       " 'Shooting',\n",
       " 'Wrestling'}"
      ]
     },
     "execution_count": 63,
     "metadata": {},
     "output_type": "execute_result"
    }
   ],
   "source": [
    "set(sportTop[sportTop['Country'] == 'USA']['Sport'])"
   ]
  },
  {
   "cell_type": "markdown",
   "metadata": {},
   "source": [
    "#### Outcome:\n",
    "Like we can find others dominace and list it out. "
   ]
  },
  {
   "cell_type": "code",
   "execution_count": 64,
   "metadata": {},
   "outputs": [
    {
     "data": {
      "text/html": [
       "<div>\n",
       "<style scoped>\n",
       "    .dataframe tbody tr th:only-of-type {\n",
       "        vertical-align: middle;\n",
       "    }\n",
       "\n",
       "    .dataframe tbody tr th {\n",
       "        vertical-align: top;\n",
       "    }\n",
       "\n",
       "    .dataframe thead th {\n",
       "        text-align: right;\n",
       "    }\n",
       "</style>\n",
       "<table border=\"1\" class=\"dataframe\">\n",
       "  <thead>\n",
       "    <tr style=\"text-align: right;\">\n",
       "      <th></th>\n",
       "      <th>Sport</th>\n",
       "      <th>Country</th>\n",
       "      <th>Bronze</th>\n",
       "      <th>Silver</th>\n",
       "      <th>Gold</th>\n",
       "      <th>AllMedals</th>\n",
       "    </tr>\n",
       "  </thead>\n",
       "  <tbody>\n",
       "    <tr>\n",
       "      <th>189</th>\n",
       "      <td>Baseball</td>\n",
       "      <td>CUB</td>\n",
       "      <td>0.0</td>\n",
       "      <td>48.0</td>\n",
       "      <td>63.0</td>\n",
       "      <td>111.0</td>\n",
       "    </tr>\n",
       "  </tbody>\n",
       "</table>\n",
       "</div>"
      ],
      "text/plain": [
       "        Sport Country  Bronze  Silver  Gold  AllMedals\n",
       "189  Baseball     CUB     0.0    48.0  63.0      111.0"
      ]
     },
     "execution_count": 64,
     "metadata": {},
     "output_type": "execute_result"
    }
   ],
   "source": [
    "sportTop[sportTop['Sport'] == 'Baseball']"
   ]
  },
  {
   "cell_type": "markdown",
   "metadata": {},
   "source": [
    "#### Outcome: \n",
    "\n",
    "Like also we can figure it out for each game who is the dominant country."
   ]
  },
  {
   "cell_type": "markdown",
   "metadata": {},
   "source": [
    "### 11. Top players with no of medals"
   ]
  },
  {
   "cell_type": "code",
   "execution_count": 65,
   "metadata": {},
   "outputs": [
    {
     "data": {
      "text/plain": [
       "PHELPS, Michael         22\n",
       "LATYNINA, Larisa        18\n",
       "ANDRIANOV, Nikolay      15\n",
       "MANGIAROTTI, Edoardo    13\n",
       "SHAKHLIN, Boris         13\n",
       "Name: Athlete, dtype: int64"
      ]
     },
     "execution_count": 65,
     "metadata": {},
     "output_type": "execute_result"
    }
   ],
   "source": [
    "df.Athlete.value_counts()[:5]"
   ]
  },
  {
   "cell_type": "code",
   "execution_count": 66,
   "metadata": {},
   "outputs": [
    {
     "data": {
      "text/plain": [
       "18"
      ]
     },
     "execution_count": 66,
     "metadata": {},
     "output_type": "execute_result"
    }
   ],
   "source": [
    "len(df[(df.Athlete == 'PHELPS, Michael') & (df.Medal == 'Gold')])"
   ]
  },
  {
   "cell_type": "markdown",
   "metadata": {},
   "source": [
    "#### Outcome: \n",
    "PHELPS, Michael  is the most valuable athlete as he won 22 medals as single handed. in swimming and clearly has dominat in that field. "
   ]
  },
  {
   "cell_type": "markdown",
   "metadata": {},
   "source": [
    "### 12.India's Medal Analysis"
   ]
  },
  {
   "cell_type": "code",
   "execution_count": 67,
   "metadata": {},
   "outputs": [
    {
     "data": {
      "text/html": [
       "<div>\n",
       "<style scoped>\n",
       "    .dataframe tbody tr th:only-of-type {\n",
       "        vertical-align: middle;\n",
       "    }\n",
       "\n",
       "    .dataframe tbody tr th {\n",
       "        vertical-align: top;\n",
       "    }\n",
       "\n",
       "    .dataframe thead th {\n",
       "        text-align: right;\n",
       "    }\n",
       "</style>\n",
       "<table border=\"1\" class=\"dataframe\">\n",
       "  <thead>\n",
       "    <tr style=\"text-align: right;\">\n",
       "      <th></th>\n",
       "      <th>Year</th>\n",
       "      <th>City</th>\n",
       "      <th>Sport</th>\n",
       "      <th>Discipline</th>\n",
       "      <th>Athlete</th>\n",
       "      <th>Country</th>\n",
       "      <th>Gender</th>\n",
       "      <th>Event</th>\n",
       "      <th>Medal</th>\n",
       "      <th>Bronze</th>\n",
       "      <th>Gold</th>\n",
       "      <th>Silver</th>\n",
       "      <th>AllMedals</th>\n",
       "    </tr>\n",
       "  </thead>\n",
       "  <tbody>\n",
       "    <tr>\n",
       "      <th>241</th>\n",
       "      <td>1900</td>\n",
       "      <td>Paris</td>\n",
       "      <td>Athletics</td>\n",
       "      <td>Athletics</td>\n",
       "      <td>PRITCHARD, Norman</td>\n",
       "      <td>IND</td>\n",
       "      <td>Men</td>\n",
       "      <td>200M</td>\n",
       "      <td>Silver</td>\n",
       "      <td>0</td>\n",
       "      <td>0</td>\n",
       "      <td>1</td>\n",
       "      <td>1</td>\n",
       "    </tr>\n",
       "    <tr>\n",
       "      <th>244</th>\n",
       "      <td>1900</td>\n",
       "      <td>Paris</td>\n",
       "      <td>Athletics</td>\n",
       "      <td>Athletics</td>\n",
       "      <td>PRITCHARD, Norman</td>\n",
       "      <td>IND</td>\n",
       "      <td>Men</td>\n",
       "      <td>200M Hurdles</td>\n",
       "      <td>Silver</td>\n",
       "      <td>0</td>\n",
       "      <td>0</td>\n",
       "      <td>1</td>\n",
       "      <td>1</td>\n",
       "    </tr>\n",
       "    <tr>\n",
       "      <th>5512</th>\n",
       "      <td>1928</td>\n",
       "      <td>Amsterdam</td>\n",
       "      <td>Hockey</td>\n",
       "      <td>Hockey</td>\n",
       "      <td>ALLEN, Richard James</td>\n",
       "      <td>IND</td>\n",
       "      <td>Men</td>\n",
       "      <td>Hockey</td>\n",
       "      <td>Gold</td>\n",
       "      <td>0</td>\n",
       "      <td>1</td>\n",
       "      <td>0</td>\n",
       "      <td>1</td>\n",
       "    </tr>\n",
       "    <tr>\n",
       "      <th>5513</th>\n",
       "      <td>1928</td>\n",
       "      <td>Amsterdam</td>\n",
       "      <td>Hockey</td>\n",
       "      <td>Hockey</td>\n",
       "      <td>CHAND, Dyan</td>\n",
       "      <td>IND</td>\n",
       "      <td>Men</td>\n",
       "      <td>Hockey</td>\n",
       "      <td>Gold</td>\n",
       "      <td>0</td>\n",
       "      <td>1</td>\n",
       "      <td>0</td>\n",
       "      <td>1</td>\n",
       "    </tr>\n",
       "    <tr>\n",
       "      <th>5514</th>\n",
       "      <td>1928</td>\n",
       "      <td>Amsterdam</td>\n",
       "      <td>Hockey</td>\n",
       "      <td>Hockey</td>\n",
       "      <td>GATELEY, Maurice A.</td>\n",
       "      <td>IND</td>\n",
       "      <td>Men</td>\n",
       "      <td>Hockey</td>\n",
       "      <td>Gold</td>\n",
       "      <td>0</td>\n",
       "      <td>1</td>\n",
       "      <td>0</td>\n",
       "      <td>1</td>\n",
       "    </tr>\n",
       "  </tbody>\n",
       "</table>\n",
       "</div>"
      ],
      "text/plain": [
       "      Year       City      Sport Discipline               Athlete Country  \\\n",
       "241   1900      Paris  Athletics  Athletics     PRITCHARD, Norman     IND   \n",
       "244   1900      Paris  Athletics  Athletics     PRITCHARD, Norman     IND   \n",
       "5512  1928  Amsterdam     Hockey     Hockey  ALLEN, Richard James     IND   \n",
       "5513  1928  Amsterdam     Hockey     Hockey           CHAND, Dyan     IND   \n",
       "5514  1928  Amsterdam     Hockey     Hockey   GATELEY, Maurice A.     IND   \n",
       "\n",
       "     Gender         Event   Medal  Bronze  Gold  Silver  AllMedals  \n",
       "241     Men          200M  Silver       0     0       1          1  \n",
       "244     Men  200M Hurdles  Silver       0     0       1          1  \n",
       "5512    Men        Hockey    Gold       0     1       0          1  \n",
       "5513    Men        Hockey    Gold       0     1       0          1  \n",
       "5514    Men        Hockey    Gold       0     1       0          1  "
      ]
     },
     "execution_count": 67,
     "metadata": {},
     "output_type": "execute_result"
    }
   ],
   "source": [
    "dfIndia = df[df.Country == 'IND']\n",
    "dfIndia.head()"
   ]
  },
  {
   "cell_type": "code",
   "execution_count": 68,
   "metadata": {},
   "outputs": [
    {
     "data": {
      "text/plain": [
       "[1900,\n",
       " 1928,\n",
       " 1932,\n",
       " 1936,\n",
       " 1948,\n",
       " 1952,\n",
       " 1956,\n",
       " 1960,\n",
       " 1964,\n",
       " 1968,\n",
       " 1972,\n",
       " 1980,\n",
       " 1996,\n",
       " 2000,\n",
       " 2004,\n",
       " 2008,\n",
       " 2012]"
      ]
     },
     "execution_count": 68,
     "metadata": {},
     "output_type": "execute_result"
    }
   ],
   "source": [
    "sorted(dfIndia.Year.unique())"
   ]
  },
  {
   "cell_type": "code",
   "execution_count": 69,
   "metadata": {},
   "outputs": [
    {
     "data": {
      "text/plain": [
       "183"
      ]
     },
     "execution_count": 69,
     "metadata": {},
     "output_type": "execute_result"
    }
   ],
   "source": [
    "dfIndia['AllMedals'].sum()"
   ]
  },
  {
   "cell_type": "markdown",
   "metadata": {},
   "source": [
    "#### Outcome: \n",
    "Though is shows 183 medals but it also includes but according to olympic any team event is calculated as one medal. So This is not the right calculation of medals in different field."
   ]
  },
  {
   "cell_type": "code",
   "execution_count": 70,
   "metadata": {},
   "outputs": [
    {
     "data": {
      "text/plain": [
       "26"
      ]
     },
     "execution_count": 70,
     "metadata": {},
     "output_type": "execute_result"
    }
   ],
   "source": [
    "#actaul no of Medals won by India in different events\n",
    "dfIndia.groupby(['Year','Event'],as_index=False).max()['AllMedals'].sum()"
   ]
  },
  {
   "cell_type": "markdown",
   "metadata": {},
   "source": [
    "### outcome: \n",
    "Here is the actual events on which India had won medals. "
   ]
  },
  {
   "cell_type": "code",
   "execution_count": 71,
   "metadata": {},
   "outputs": [
    {
     "data": {
      "text/plain": [
       "{'Athletics',\n",
       " 'Badminton',\n",
       " 'Boxing',\n",
       " 'Hockey',\n",
       " 'Shooting',\n",
       " 'Tennis',\n",
       " 'Weightlifting',\n",
       " 'Wrestling'}"
      ]
     },
     "execution_count": 71,
     "metadata": {},
     "output_type": "execute_result"
    }
   ],
   "source": [
    "#Sports in which India won a Medal\n",
    "set(dfIndia[dfIndia.AllMedals == 1].Sport.unique())"
   ]
  },
  {
   "cell_type": "code",
   "execution_count": 72,
   "metadata": {},
   "outputs": [
    {
     "data": {
      "text/plain": [
       "array(['Hockey', 'Shooting'], dtype=object)"
      ]
     },
     "execution_count": 72,
     "metadata": {},
     "output_type": "execute_result"
    }
   ],
   "source": [
    "#Sports in which India won a gold Medal\n",
    "dfIndia[dfIndia.Gold == 1].Sport.unique()"
   ]
  },
  {
   "cell_type": "code",
   "execution_count": 73,
   "metadata": {},
   "outputs": [
    {
     "data": {
      "text/html": [
       "<div>\n",
       "<style scoped>\n",
       "    .dataframe tbody tr th:only-of-type {\n",
       "        vertical-align: middle;\n",
       "    }\n",
       "\n",
       "    .dataframe tbody tr th {\n",
       "        vertical-align: top;\n",
       "    }\n",
       "\n",
       "    .dataframe thead th {\n",
       "        text-align: right;\n",
       "    }\n",
       "</style>\n",
       "<table border=\"1\" class=\"dataframe\">\n",
       "  <thead>\n",
       "    <tr style=\"text-align: right;\">\n",
       "      <th></th>\n",
       "      <th>Year</th>\n",
       "      <th>City</th>\n",
       "      <th>Sport</th>\n",
       "      <th>Discipline</th>\n",
       "      <th>Athlete</th>\n",
       "      <th>Country</th>\n",
       "      <th>Gender</th>\n",
       "      <th>Event</th>\n",
       "      <th>Medal</th>\n",
       "      <th>Bronze</th>\n",
       "      <th>Gold</th>\n",
       "      <th>Silver</th>\n",
       "      <th>AllMedals</th>\n",
       "    </tr>\n",
       "  </thead>\n",
       "  <tbody>\n",
       "    <tr>\n",
       "      <th>28856</th>\n",
       "      <td>2008</td>\n",
       "      <td>Beijing</td>\n",
       "      <td>Shooting</td>\n",
       "      <td>Shooting</td>\n",
       "      <td>BINDRA, Abhinav</td>\n",
       "      <td>IND</td>\n",
       "      <td>Men</td>\n",
       "      <td>10M Air Rifle (60 Shots)</td>\n",
       "      <td>Gold</td>\n",
       "      <td>0</td>\n",
       "      <td>1</td>\n",
       "      <td>0</td>\n",
       "      <td>1</td>\n",
       "    </tr>\n",
       "  </tbody>\n",
       "</table>\n",
       "</div>"
      ],
      "text/plain": [
       "       Year     City     Sport Discipline          Athlete Country Gender  \\\n",
       "28856  2008  Beijing  Shooting   Shooting  BINDRA, Abhinav     IND    Men   \n",
       "\n",
       "                          Event Medal  Bronze  Gold  Silver  AllMedals  \n",
       "28856  10M Air Rifle (60 Shots)  Gold       0     1       0          1  "
      ]
     },
     "execution_count": 73,
     "metadata": {},
     "output_type": "execute_result"
    }
   ],
   "source": [
    "#Name of the Athelete in individual team event won a Medal may be shooting , so Lets figure it out\n",
    "dfIndia[(dfIndia.Gold == 1) & (dfIndia.Sport == 'Shooting')]"
   ]
  },
  {
   "cell_type": "code",
   "execution_count": 74,
   "metadata": {},
   "outputs": [
    {
     "data": {
      "text/plain": [
       "array([1928, 1932, 1936, 1948, 1952, 1956, 1964, 1980], dtype=int64)"
      ]
     },
     "execution_count": 74,
     "metadata": {},
     "output_type": "execute_result"
    }
   ],
   "source": [
    "#Years in whcih India won gold medal as a team\n",
    "dfIndia[(dfIndia.Gold == 1) & (dfIndia.Sport == 'Hockey')]['Year'].unique()"
   ]
  },
  {
   "cell_type": "code",
   "execution_count": 75,
   "metadata": {},
   "outputs": [],
   "source": [
    "#Plotting india's performance on olympics over years\n",
    "dFindYear = dfIndia.groupby(['Year','Event'],as_index = False).max()\n",
    "dFindYear = dFindYear.groupby(['Year'],as_index=False).sum()"
   ]
  },
  {
   "cell_type": "code",
   "execution_count": 76,
   "metadata": {},
   "outputs": [
    {
     "data": {
      "image/png": "[encoded data removed]",
      "text/plain": [
       "<Figure size 1800x1200 with 1 Axes>"
      ]
     },
     "metadata": {},
     "output_type": "display_data"
    }
   ],
   "source": [
    "plab.plot(dFindYear.Year,dFindYear.AllMedals)\n",
    "plab.plot(dFindYear.Year,dFindYear.AllMedals,'bo')\n",
    "plab.yticks(range(0,8))\n",
    "plab.xticks(range(1900,2016,4))\n",
    "plab.show()"
   ]
  },
  {
   "cell_type": "code",
   "execution_count": 77,
   "metadata": {},
   "outputs": [],
   "source": [
    "#Top 10 players with Most number of medals\n",
    "medals = df.groupby('Athlete',as_index='False').sum()"
   ]
  },
  {
   "cell_type": "code",
   "execution_count": 84,
   "metadata": {},
   "outputs": [
    {
     "data": {
      "text/html": [
       "<div>\n",
       "<style scoped>\n",
       "    .dataframe tbody tr th:only-of-type {\n",
       "        vertical-align: middle;\n",
       "    }\n",
       "\n",
       "    .dataframe tbody tr th {\n",
       "        vertical-align: top;\n",
       "    }\n",
       "\n",
       "    .dataframe thead th {\n",
       "        text-align: right;\n",
       "    }\n",
       "</style>\n",
       "<table border=\"1\" class=\"dataframe\">\n",
       "  <thead>\n",
       "    <tr style=\"text-align: right;\">\n",
       "      <th></th>\n",
       "      <th>Bronze</th>\n",
       "      <th>Silver</th>\n",
       "      <th>Gold</th>\n",
       "      <th>AllMedals</th>\n",
       "    </tr>\n",
       "    <tr>\n",
       "      <th>Athlete</th>\n",
       "      <th></th>\n",
       "      <th></th>\n",
       "      <th></th>\n",
       "      <th></th>\n",
       "    </tr>\n",
       "  </thead>\n",
       "  <tbody>\n",
       "    <tr>\n",
       "      <th>PHELPS, Michael</th>\n",
       "      <td>2</td>\n",
       "      <td>2</td>\n",
       "      <td>18</td>\n",
       "      <td>22</td>\n",
       "    </tr>\n",
       "    <tr>\n",
       "      <th>LATYNINA, Larisa</th>\n",
       "      <td>4</td>\n",
       "      <td>5</td>\n",
       "      <td>9</td>\n",
       "      <td>18</td>\n",
       "    </tr>\n",
       "    <tr>\n",
       "      <th>ANDRIANOV, Nikolay</th>\n",
       "      <td>3</td>\n",
       "      <td>5</td>\n",
       "      <td>7</td>\n",
       "      <td>15</td>\n",
       "    </tr>\n",
       "    <tr>\n",
       "      <th>MANGIAROTTI, Edoardo</th>\n",
       "      <td>2</td>\n",
       "      <td>5</td>\n",
       "      <td>6</td>\n",
       "      <td>13</td>\n",
       "    </tr>\n",
       "    <tr>\n",
       "      <th>SHAKHLIN, Boris</th>\n",
       "      <td>2</td>\n",
       "      <td>4</td>\n",
       "      <td>7</td>\n",
       "      <td>13</td>\n",
       "    </tr>\n",
       "    <tr>\n",
       "      <th>ONO, Takashi</th>\n",
       "      <td>4</td>\n",
       "      <td>4</td>\n",
       "      <td>5</td>\n",
       "      <td>13</td>\n",
       "    </tr>\n",
       "    <tr>\n",
       "      <th>FISCHER, Birgit</th>\n",
       "      <td>0</td>\n",
       "      <td>4</td>\n",
       "      <td>8</td>\n",
       "      <td>12</td>\n",
       "    </tr>\n",
       "    <tr>\n",
       "      <th>NURMI, Paavo</th>\n",
       "      <td>0</td>\n",
       "      <td>3</td>\n",
       "      <td>9</td>\n",
       "      <td>12</td>\n",
       "    </tr>\n",
       "    <tr>\n",
       "      <th>COUGHLIN, Natalie</th>\n",
       "      <td>5</td>\n",
       "      <td>4</td>\n",
       "      <td>3</td>\n",
       "      <td>12</td>\n",
       "    </tr>\n",
       "    <tr>\n",
       "      <th>NEMOV, Alexei</th>\n",
       "      <td>6</td>\n",
       "      <td>2</td>\n",
       "      <td>4</td>\n",
       "      <td>12</td>\n",
       "    </tr>\n",
       "  </tbody>\n",
       "</table>\n",
       "</div>"
      ],
      "text/plain": [
       "                      Bronze  Silver  Gold  AllMedals\n",
       "Athlete                                              \n",
       "PHELPS, Michael            2       2    18         22\n",
       "LATYNINA, Larisa           4       5     9         18\n",
       "ANDRIANOV, Nikolay         3       5     7         15\n",
       "MANGIAROTTI, Edoardo       2       5     6         13\n",
       "SHAKHLIN, Boris            2       4     7         13\n",
       "ONO, Takashi               4       4     5         13\n",
       "FISCHER, Birgit            0       4     8         12\n",
       "NURMI, Paavo               0       3     9         12\n",
       "COUGHLIN, Natalie          5       4     3         12\n",
       "NEMOV, Alexei              6       2     4         12"
      ]
     },
     "execution_count": 84,
     "metadata": {},
     "output_type": "execute_result"
    }
   ],
   "source": [
    "mostMedals = medals.sort_values(by=['AllMedals'],ascending=False)\n",
    "mostMedals[['Bronze','Silver','Gold','AllMedals']].head(10)"
   ]
  },
  {
   "cell_type": "code",
   "execution_count": 79,
   "metadata": {},
   "outputs": [
    {
     "name": "stdout",
     "output_type": "stream",
     "text": [
      "Number of Athletes won more than 10 medal:->  28\n"
     ]
    }
   ],
   "source": [
    "#Athelete have won equals or more than 10 medals\n",
    "print(\"Number of Athletes won more than 10 medal:-> \",len(mostMedals[mostMedals.AllMedals >= 10]))"
   ]
  },
  {
   "cell_type": "code",
   "execution_count": 80,
   "metadata": {},
   "outputs": [
    {
     "data": {
      "text/html": [
       "<div>\n",
       "<style scoped>\n",
       "    .dataframe tbody tr th:only-of-type {\n",
       "        vertical-align: middle;\n",
       "    }\n",
       "\n",
       "    .dataframe tbody tr th {\n",
       "        vertical-align: top;\n",
       "    }\n",
       "\n",
       "    .dataframe thead th {\n",
       "        text-align: right;\n",
       "    }\n",
       "</style>\n",
       "<table border=\"1\" class=\"dataframe\">\n",
       "  <thead>\n",
       "    <tr style=\"text-align: right;\">\n",
       "      <th></th>\n",
       "      <th>Gold</th>\n",
       "    </tr>\n",
       "    <tr>\n",
       "      <th>Athlete</th>\n",
       "      <th></th>\n",
       "    </tr>\n",
       "  </thead>\n",
       "  <tbody>\n",
       "    <tr>\n",
       "      <th>PHELPS, Michael</th>\n",
       "      <td>18</td>\n",
       "    </tr>\n",
       "    <tr>\n",
       "      <th>LEWIS, Carl</th>\n",
       "      <td>9</td>\n",
       "    </tr>\n",
       "    <tr>\n",
       "      <th>SPITZ, Mark</th>\n",
       "      <td>9</td>\n",
       "    </tr>\n",
       "    <tr>\n",
       "      <th>NURMI, Paavo</th>\n",
       "      <td>9</td>\n",
       "    </tr>\n",
       "    <tr>\n",
       "      <th>LATYNINA, Larisa</th>\n",
       "      <td>9</td>\n",
       "    </tr>\n",
       "    <tr>\n",
       "      <th>THOMPSON, Jenny</th>\n",
       "      <td>8</td>\n",
       "    </tr>\n",
       "    <tr>\n",
       "      <th>FISCHER, Birgit</th>\n",
       "      <td>8</td>\n",
       "    </tr>\n",
       "    <tr>\n",
       "      <th>KATO, Sawao</th>\n",
       "      <td>8</td>\n",
       "    </tr>\n",
       "    <tr>\n",
       "      <th>BIONDI, Matthew</th>\n",
       "      <td>8</td>\n",
       "    </tr>\n",
       "    <tr>\n",
       "      <th>EWRY, Ray</th>\n",
       "      <td>8</td>\n",
       "    </tr>\n",
       "  </tbody>\n",
       "</table>\n",
       "</div>"
      ],
      "text/plain": [
       "                  Gold\n",
       "Athlete               \n",
       "PHELPS, Michael     18\n",
       "LEWIS, Carl          9\n",
       "SPITZ, Mark          9\n",
       "NURMI, Paavo         9\n",
       "LATYNINA, Larisa     9\n",
       "THOMPSON, Jenny      8\n",
       "FISCHER, Birgit      8\n",
       "KATO, Sawao          8\n",
       "BIONDI, Matthew      8\n",
       "EWRY, Ray            8"
      ]
     },
     "execution_count": 80,
     "metadata": {},
     "output_type": "execute_result"
    }
   ],
   "source": [
    "#Athelete With most numbers of Gold medals\n",
    "mostGoldMedals = medals.sort_values(by=['Gold'],ascending=False)\n",
    "mostGoldMedals.head(10)[['Gold']]"
   ]
  },
  {
   "cell_type": "code",
   "execution_count": 83,
   "metadata": {},
   "outputs": [
    {
     "data": {
      "text/html": [
       "<div>\n",
       "<style scoped>\n",
       "    .dataframe tbody tr th:only-of-type {\n",
       "        vertical-align: middle;\n",
       "    }\n",
       "\n",
       "    .dataframe tbody tr th {\n",
       "        vertical-align: top;\n",
       "    }\n",
       "\n",
       "    .dataframe thead th {\n",
       "        text-align: right;\n",
       "    }\n",
       "</style>\n",
       "<table border=\"1\" class=\"dataframe\">\n",
       "  <thead>\n",
       "    <tr style=\"text-align: right;\">\n",
       "      <th></th>\n",
       "      <th>Silver</th>\n",
       "    </tr>\n",
       "    <tr>\n",
       "      <th>Athlete</th>\n",
       "      <th></th>\n",
       "    </tr>\n",
       "  </thead>\n",
       "  <tbody>\n",
       "    <tr>\n",
       "      <th>VAN ALMSICK, Franziska</th>\n",
       "      <td>4</td>\n",
       "    </tr>\n",
       "    <tr>\n",
       "      <th>VORONIN, Mikhail</th>\n",
       "      <td>6</td>\n",
       "    </tr>\n",
       "    <tr>\n",
       "      <th>TITOV, Yuri</th>\n",
       "      <td>5</td>\n",
       "    </tr>\n",
       "    <tr>\n",
       "      <th>BABASHOFF, Shirley Farber</th>\n",
       "      <td>6</td>\n",
       "    </tr>\n",
       "    <tr>\n",
       "      <th>HASE, Dagmar</th>\n",
       "      <td>5</td>\n",
       "    </tr>\n",
       "    <tr>\n",
       "      <th>HOLMERTZ, Anders</th>\n",
       "      <td>4</td>\n",
       "    </tr>\n",
       "    <tr>\n",
       "      <th>TAKEDA, Miho</th>\n",
       "      <td>4</td>\n",
       "    </tr>\n",
       "    <tr>\n",
       "      <th>ZUCHOLD, Erika</th>\n",
       "      <td>4</td>\n",
       "    </tr>\n",
       "    <tr>\n",
       "      <th>LISITSKY, Viktor</th>\n",
       "      <td>5</td>\n",
       "    </tr>\n",
       "    <tr>\n",
       "      <th>TACHIBANA, Miya</th>\n",
       "      <td>4</td>\n",
       "    </tr>\n",
       "    <tr>\n",
       "      <th>YAMANAKA, Tsuyoshi</th>\n",
       "      <td>4</td>\n",
       "    </tr>\n",
       "    <tr>\n",
       "      <th>JOYCE, Kara Lynn</th>\n",
       "      <td>4</td>\n",
       "    </tr>\n",
       "    <tr>\n",
       "      <th>PINTON, Vincenzo</th>\n",
       "      <td>4</td>\n",
       "    </tr>\n",
       "    <tr>\n",
       "      <th>WIEGAND, Frank</th>\n",
       "      <td>4</td>\n",
       "    </tr>\n",
       "    <tr>\n",
       "      <th>NOSTINI, Renzo</th>\n",
       "      <td>4</td>\n",
       "    </tr>\n",
       "    <tr>\n",
       "      <th>FREDERICKS, Frank</th>\n",
       "      <td>4</td>\n",
       "    </tr>\n",
       "    <tr>\n",
       "      <th>STARK, Ian</th>\n",
       "      <td>4</td>\n",
       "    </tr>\n",
       "    <tr>\n",
       "      <th>THOMPSON, Richard</th>\n",
       "      <td>4</td>\n",
       "    </tr>\n",
       "  </tbody>\n",
       "</table>\n",
       "</div>"
      ],
      "text/plain": [
       "                           Silver\n",
       "Athlete                          \n",
       "VAN ALMSICK, Franziska          4\n",
       "VORONIN, Mikhail                6\n",
       "TITOV, Yuri                     5\n",
       "BABASHOFF, Shirley Farber       6\n",
       "HASE, Dagmar                    5\n",
       "HOLMERTZ, Anders                4\n",
       "TAKEDA, Miho                    4\n",
       "ZUCHOLD, Erika                  4\n",
       "LISITSKY, Viktor                5\n",
       "TACHIBANA, Miya                 4\n",
       "YAMANAKA, Tsuyoshi              4\n",
       "JOYCE, Kara Lynn                4\n",
       "PINTON, Vincenzo                4\n",
       "WIEGAND, Frank                  4\n",
       "NOSTINI, Renzo                  4\n",
       "FREDERICKS, Frank               4\n",
       "STARK, Ian                      4\n",
       "THOMPSON, Richard               4"
      ]
     },
     "execution_count": 83,
     "metadata": {},
     "output_type": "execute_result"
    }
   ],
   "source": [
    "#List those Athletes who missed gold more than 3 times\n",
    "mostMedals[(mostMedals.Silver) > (mostMedals.Gold+3)][['Silver']]"
   ]
  },
  {
   "cell_type": "markdown",
   "metadata": {},
   "source": [
    "This analysis is completely based on my understanding, so does not have any thridparty inclusions. So kindly let me know if it needs any futher enhancements and please have suggestions and feedbacks.\n",
    "\n",
    "The sources of this analysis is from:\n",
    "Wikipedia, kaggle, datascience,Stackoverflow.\n",
    "\n"
   ]
  }
 ],
 "metadata": {
  "kernelspec": {
   "display_name": "Python 3",
   "language": "python",
   "name": "python3"
  },
  "language_info": {
   "codemirror_mode": {
    "name": "ipython",
    "version": 3
   },
   "file_extension": ".py",
   "mimetype": "text/x-python",
   "name": "python",
   "nbconvert_exporter": "python",
   "pygments_lexer": "ipython3",
   "version": "3.7.1"
  }
 },
 "nbformat": 4,
 "nbformat_minor": 2
}
